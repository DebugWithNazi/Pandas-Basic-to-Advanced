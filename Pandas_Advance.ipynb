{
  "nbformat": 4,
  "nbformat_minor": 0,
  "metadata": {
    "colab": {
      "provenance": [],
      "authorship_tag": "ABX9TyMOXIfYmZA1lwHlM8tdrAae",
      "include_colab_link": true
    },
    "kernelspec": {
      "name": "python3",
      "display_name": "Python 3"
    },
    "language_info": {
      "name": "python"
    }
  },
  "cells": [
    {
      "cell_type": "markdown",
      "metadata": {
        "id": "view-in-github",
        "colab_type": "text"
      },
      "source": [
        "<a href=\"https://colab.research.google.com/github/DebugWithNazi/Pandas-Basic-to-Advanced/blob/main/Pandas_Advance.ipynb\" target=\"_parent\"><img src=\"https://colab.research.google.com/assets/colab-badge.svg\" alt=\"Open In Colab\"/></a>"
      ]
    },
    {
      "cell_type": "markdown",
      "source": [
        "**Adding Columns**"
      ],
      "metadata": {
        "id": "W8x2Gwv9bQVg"
      }
    },
    {
      "cell_type": "code",
      "source": [
        "!pip install Pandas"
      ],
      "metadata": {
        "colab": {
          "base_uri": "https://localhost:8080/"
        },
        "id": "4j9peurGcKIO",
        "outputId": "295f5286-c201-4e06-c092-010d84df14d1"
      },
      "execution_count": null,
      "outputs": [
        {
          "output_type": "stream",
          "name": "stdout",
          "text": [
            "Requirement already satisfied: Pandas in /usr/local/lib/python3.11/dist-packages (2.2.2)\n",
            "Requirement already satisfied: numpy>=1.23.2 in /usr/local/lib/python3.11/dist-packages (from Pandas) (2.0.2)\n",
            "Requirement already satisfied: python-dateutil>=2.8.2 in /usr/local/lib/python3.11/dist-packages (from Pandas) (2.9.0.post0)\n",
            "Requirement already satisfied: pytz>=2020.1 in /usr/local/lib/python3.11/dist-packages (from Pandas) (2025.2)\n",
            "Requirement already satisfied: tzdata>=2022.7 in /usr/local/lib/python3.11/dist-packages (from Pandas) (2025.2)\n",
            "Requirement already satisfied: six>=1.5 in /usr/local/lib/python3.11/dist-packages (from python-dateutil>=2.8.2->Pandas) (1.17.0)\n"
          ]
        }
      ]
    },
    {
      "cell_type": "code",
      "execution_count": null,
      "metadata": {
        "colab": {
          "base_uri": "https://localhost:8080/"
        },
        "id": "O-y946ataEhp",
        "outputId": "09b6b063-e401-4488-941e-673250adddd5"
      },
      "outputs": [
        {
          "output_type": "stream",
          "name": "stdout",
          "text": [
            "   EmpoyeeId     Name  Age  Salary  Performance_Score   Bonus\n",
            "0         10    Sania   21   45000                 90  4500.0\n",
            "1         20     Isha   34   23000                 99  2300.0\n",
            "2         30  Muntaha   23   10000                 64  1000.0\n",
            "3         40    Hadia   15   23000                 85  2300.0\n",
            "   EmpoyeeId     Name  Age  Salary  Performance_Score   Bonus\n",
            "0         10    Sania   21   50000                 90  4500.0\n",
            "1         20     Isha   34   23000                 99  2300.0\n",
            "2         30  Muntaha   23   10000                 64  1000.0\n",
            "3         40    Hadia   15   23000                 85  2300.0\n",
            "   EmpoyeeId     Name  Age   Salary  Performance_Score   Bonus\n",
            "0         10    Sania   21  52500.0                 90  4500.0\n",
            "1         20     Isha   34  24150.0                 99  2300.0\n",
            "2         30  Muntaha   23  10500.0                 64  1000.0\n",
            "3         40    Hadia   15  24150.0                 85  2300.0\n"
          ]
        }
      ],
      "source": [
        "import pandas as pd\n",
        "\n",
        "data ={\n",
        "    \"Name\":[\"Sania\", \"Isha\", \"Muntaha\", \"Hadia\"],\n",
        "    \"Age\":[21,34,23,15],\n",
        "    \"Salary\": [45000, 23000, 10000,23000],\n",
        "    \"Performance_Score\": [90,99,64,85]\n",
        "}\n",
        "df = pd.DataFrame(data)\n",
        "\n",
        "# by direct assignment add column\n",
        "df[\"Bonus\"] = df['Salary'] * 0.1\n",
        "\n",
        "# by using insert() method add column at specific index\n",
        "df.insert(0,\"EmpoyeeId\", [10,20,30,40])\n",
        "print(df)\n",
        "\n",
        "# update a value from data (.loc[]) at specific location\n",
        "df.loc[0,\"Salary\"] = 50000 # On 0 row, Salary is updated\n",
        "print(df)\n",
        "\n",
        "# increasing salary by 5% (update the entire column)\n",
        "df[\"Salary\"] = df[\"Salary\"] * 1.05\n",
        "print(df)"
      ]
    },
    {
      "cell_type": "markdown",
      "source": [
        "**Removing Column:**"
      ],
      "metadata": {
        "id": "C0OC3ywdlGdu"
      }
    },
    {
      "cell_type": "code",
      "source": [
        "# how to remove single column\n",
        "# df.drop(columns = [\"Performance_Score\"], inplace = True)\n",
        "# print(df)\n",
        "\n",
        "# how to remove multiple column\n",
        "df.drop(columns = [\"Age\",\"Salary\"], inplace = True)\n",
        "print(df)"
      ],
      "metadata": {
        "colab": {
          "base_uri": "https://localhost:8080/"
        },
        "id": "GxHi57HBlJ1w",
        "outputId": "6a55940c-db4d-46fc-b552-df9962268888"
      },
      "execution_count": null,
      "outputs": [
        {
          "output_type": "stream",
          "name": "stdout",
          "text": [
            "   EmpoyeeId     Name   Bonus\n",
            "0         10    Sania  4500.0\n",
            "1         20     Isha  2300.0\n",
            "2         30  Muntaha  1000.0\n",
            "3         40    Hadia  2300.0\n"
          ]
        }
      ]
    },
    {
      "cell_type": "markdown",
      "source": [
        "**Handling Missing Data:**"
      ],
      "metadata": {
        "id": "vKPZXamtoiyH"
      }
    },
    {
      "cell_type": "code",
      "source": [
        "# NaN (not a number)\n",
        "# None (for object data types)\n",
        "\n",
        "isnull()\n",
        "True  # NaN ( is missing )\n",
        "False # value is present\n"
      ],
      "metadata": {
        "id": "tf9VAAI5omFi"
      },
      "execution_count": null,
      "outputs": []
    },
    {
      "cell_type": "code",
      "source": [
        "import pandas as pd\n",
        "\n",
        "data ={\n",
        "    \"Name\":[\"Sania\", None, \"Muntaha\", \"Hadia\"],\n",
        "    \"Age\":[21,None,23,15],\n",
        "    \"Salary\": [45000, None, 10000,23000],\n",
        "    \"Performance_Score\": [90,None,64,85]\n",
        "}\n",
        "df = pd.DataFrame(data)\n",
        "print(df)\n",
        "\n",
        "print(df.isnull())\n",
        "print(df.isnull().sum())"
      ],
      "metadata": {
        "colab": {
          "base_uri": "https://localhost:8080/"
        },
        "id": "iQkXe8M6pfNX",
        "outputId": "697fc6d0-cac0-4422-c250-cccfdea5085e"
      },
      "execution_count": null,
      "outputs": [
        {
          "output_type": "stream",
          "name": "stdout",
          "text": [
            "      Name   Age   Salary  Performance_Score\n",
            "0    Sania  21.0  45000.0               90.0\n",
            "1     None   NaN      NaN                NaN\n",
            "2  Muntaha  23.0  10000.0               64.0\n",
            "3    Hadia  15.0  23000.0               85.0\n",
            "    Name    Age  Salary  Performance_Score\n",
            "0  False  False   False              False\n",
            "1   True   True    True               True\n",
            "2  False  False   False              False\n",
            "3  False  False   False              False\n",
            "Name                 1\n",
            "Age                  1\n",
            "Salary               1\n",
            "Performance_Score    1\n",
            "dtype: int64\n"
          ]
        }
      ]
    },
    {
      "cell_type": "markdown",
      "source": [
        "**How to drop missing dataset:**"
      ],
      "metadata": {
        "id": "FbVqp1xLq5c2"
      }
    },
    {
      "cell_type": "code",
      "source": [
        "# dropna()\n",
        "import pandas as pd\n",
        "\n",
        "data ={\n",
        "    \"Name\":[\"Sania\", None, \"Muntaha\", \"Hadia\"],\n",
        "    \"Age\":[21,None,23,15],\n",
        "    \"Salary\": [45000, None, 10000,23000],\n",
        "    \"Performance_Score\": [90,None,64,85]\n",
        "}\n",
        "df = pd.DataFrame(data)\n",
        "print(df)\n",
        "print(\"--------\")\n",
        "df.dropna(axis=0, inplace=True) # remove all none values from row, if axis = 1 then remove none from column\n",
        "print(df)\n",
        "\n",
        "#if you want to replace a value with None values\n",
        "df.fillna(0, inplace = True)\n",
        "print(df)\n",
        "\n",
        "#if you want to replace a value with None values\n",
        "df[\"Age\"].fillna(df[\"Age\"].mean(), inplace = True)\n",
        "print(df)"
      ],
      "metadata": {
        "colab": {
          "base_uri": "https://localhost:8080/"
        },
        "id": "eAhAzjg4q9E8",
        "outputId": "17497919-308e-4393-aeca-72fdfd7b801a"
      },
      "execution_count": null,
      "outputs": [
        {
          "output_type": "stream",
          "name": "stdout",
          "text": [
            "      Name   Age   Salary  Performance_Score\n",
            "0    Sania  21.0  45000.0               90.0\n",
            "1     None   NaN      NaN                NaN\n",
            "2  Muntaha  23.0  10000.0               64.0\n",
            "3    Hadia  15.0  23000.0               85.0\n",
            "--------\n",
            "      Name        Age   Salary  Performance_Score\n",
            "0    Sania  21.000000  45000.0               90.0\n",
            "1     None  19.666667      NaN                NaN\n",
            "2  Muntaha  23.000000  10000.0               64.0\n",
            "3    Hadia  15.000000  23000.0               85.0\n"
          ]
        },
        {
          "output_type": "stream",
          "name": "stderr",
          "text": [
            "/tmp/ipython-input-31-1587648273.py:21: FutureWarning: A value is trying to be set on a copy of a DataFrame or Series through chained assignment using an inplace method.\n",
            "The behavior will change in pandas 3.0. This inplace method will never work because the intermediate object on which we are setting values always behaves as a copy.\n",
            "\n",
            "For example, when doing 'df[col].method(value, inplace=True)', try using 'df.method({col: value}, inplace=True)' or df[col] = df[col].method(value) instead, to perform the operation inplace on the original object.\n",
            "\n",
            "\n",
            "  df[\"Age\"].fillna(df[\"Age\"].mean(), inplace = True)\n"
          ]
        }
      ]
    },
    {
      "cell_type": "markdown",
      "source": [
        "**Interpolation:** missing values me estimated values fill ki jati hen for example if we have 10,20,None,40,50 then estimated value should be 10,20,30,40,50"
      ],
      "metadata": {
        "id": "eB_OAFjctuKW"
      }
    },
    {
      "cell_type": "code",
      "source": [
        "# Why need to use interpolation:\n",
        "# 1- preserve data integrity (it will predict realistic value and place it)\n",
        "# 2- smooth trends (where continuity matters)\n",
        "# 3- avoid data loss\n",
        "import pandas as pd\n",
        "\n",
        "data ={\n",
        "    \"Name\":[\"Sania\", \"Isha\", \"Muntaha\", \"Hadia\"],\n",
        "    \"Age\":[21,None,23,15],\n",
        "    \"Salary\": [45000, None, 10000,23000],\n",
        "    \"Performance_Score\": [90,None,64,85]\n",
        "}\n",
        "df = pd.DataFrame(data)\n",
        "print(df)\n",
        "print(\"----\")\n",
        "# linear, polynomial, time\n",
        "df.interpolate(method = \"linear\",axis = 0, inplace = True)\n",
        "print(df)\n"
      ],
      "metadata": {
        "colab": {
          "base_uri": "https://localhost:8080/"
        },
        "id": "jLn0a_n8tw7C",
        "outputId": "655a5146-baa5-4fda-fcd3-2fc5d0df2c43"
      },
      "execution_count": null,
      "outputs": [
        {
          "output_type": "stream",
          "name": "stdout",
          "text": [
            "      Name   Age   Salary  Performance_Score\n",
            "0    Sania  21.0  45000.0               90.0\n",
            "1     Isha   NaN      NaN                NaN\n",
            "2  Muntaha  23.0  10000.0               64.0\n",
            "3    Hadia  15.0  23000.0               85.0\n",
            "----\n",
            "      Name   Age   Salary  Performance_Score\n",
            "0    Sania  21.0  45000.0               90.0\n",
            "1     Isha  22.0  27500.0               77.0\n",
            "2  Muntaha  23.0  10000.0               64.0\n",
            "3    Hadia  15.0  23000.0               85.0\n"
          ]
        },
        {
          "output_type": "stream",
          "name": "stderr",
          "text": [
            "/tmp/ipython-input-36-2482408275.py:17: FutureWarning: DataFrame.interpolate with object dtype is deprecated and will raise in a future version. Call obj.infer_objects(copy=False) before interpolating instead.\n",
            "  df.interpolate(method = \"linear\",axis = 0, inplace = True)\n"
          ]
        }
      ]
    },
    {
      "cell_type": "code",
      "source": [
        "data = {\n",
        "    \"Time\": [1,2,3,4,5],\n",
        "    \"value\": [10,None,30,None,50]\n",
        "}\n",
        "\n",
        "df = pd.DataFrame(data)\n",
        "print(df)\n",
        "print(\"----\")\n",
        "df[\"value\"] = df[\"value\"].interpolate(method = \"linear\")\n",
        "print(df)\n",
        "# Advantage of interpolation\n",
        "# 1- time series data, 2- numeric data with trends 3- avoid dropping rows\n",
        "# Disadvantage\n",
        "# 1- not work for categorical data (name, id's) 2- it assume pattern, which always not true"
      ],
      "metadata": {
        "colab": {
          "base_uri": "https://localhost:8080/"
        },
        "id": "2tQ9qUZpwRDi",
        "outputId": "1c4ed3a6-2a22-4de3-9f7a-cd39ea7e2ffe"
      },
      "execution_count": null,
      "outputs": [
        {
          "output_type": "stream",
          "name": "stdout",
          "text": [
            "   Time  value\n",
            "0     1   10.0\n",
            "1     2    NaN\n",
            "2     3   30.0\n",
            "3     4    NaN\n",
            "4     5   50.0\n",
            "----\n",
            "   Time  value\n",
            "0     1   10.0\n",
            "1     2   20.0\n",
            "2     3   30.0\n",
            "3     4   40.0\n",
            "4     5   50.0\n"
          ]
        }
      ]
    },
    {
      "cell_type": "markdown",
      "source": [
        "**Sorting & aggregation:**"
      ],
      "metadata": {
        "id": "0tSmnpIKSIVw"
      }
    },
    {
      "cell_type": "code",
      "source": [
        "# sorting data\n",
        "import pandas as pd\n",
        "\n",
        "data ={\n",
        "    \"Name\":[\"Sania\", \"Isha\", \"Muntaha\", \"Hadia\"],\n",
        "    \"Age\":[21,100,23,15],\n",
        "    \"Salary\": [45000, 34000, 10000,23000],\n",
        "    \"Performance_Score\": [90,75,64,85]\n",
        "}\n",
        "df = pd.DataFrame(data)\n",
        "print(df)\n",
        "print(\"----\")\n",
        "\n",
        "df.sort_values(by = \"Salary\", ascending = False, inplace = True) # single col sorting\n",
        "print(df)\n",
        "\n",
        "df.sort_values(by = [\"Age\",\"Salary\"], ascending = [True,False], inplace = True) # single col sorting\n",
        "print(df)\n",
        "\n",
        "# aggregation invlove calculating summary statistics (sum, mean etc)\n",
        "# summary statistics (avg, total, min , max etc)\n",
        "# df[\"Column1\"].mean()\n",
        "# df[\"Column1\"].max()\n",
        "# df[\"Column1\"].min()\n",
        "# df[\"Column1\"].sum()\n",
        "avg_salary = df[\"Salary\"].mean()\n",
        "print(avg_salary)"
      ],
      "metadata": {
        "colab": {
          "base_uri": "https://localhost:8080/"
        },
        "id": "DtHoNLHsSQPJ",
        "outputId": "f1e3ba3e-93bb-4eba-cb4d-16000255f637"
      },
      "execution_count": null,
      "outputs": [
        {
          "output_type": "stream",
          "name": "stdout",
          "text": [
            "      Name  Age  Salary  Performance_Score\n",
            "0    Sania   21   45000                 90\n",
            "1     Isha  100   34000                 75\n",
            "2  Muntaha   23   10000                 64\n",
            "3    Hadia   15   23000                 85\n",
            "----\n",
            "      Name  Age  Salary  Performance_Score\n",
            "0    Sania   21   45000                 90\n",
            "1     Isha  100   34000                 75\n",
            "3    Hadia   15   23000                 85\n",
            "2  Muntaha   23   10000                 64\n",
            "      Name  Age  Salary  Performance_Score\n",
            "3    Hadia   15   23000                 85\n",
            "0    Sania   21   45000                 90\n",
            "2  Muntaha   23   10000                 64\n",
            "1     Isha  100   34000                 75\n",
            "28000.0\n"
          ]
        }
      ]
    },
    {
      "cell_type": "markdown",
      "source": [
        "**What is grouping in Pandas?**\n"
      ],
      "metadata": {
        "id": "VBxeY1SOePpB"
      }
    },
    {
      "cell_type": "code",
      "source": [
        "import pandas as pd\n",
        "\n",
        "data ={\n",
        "    \"Name\":[\"Sania\", \"Isha\", \"Muntaha\", \"Hadia\",\"Jia\"],\n",
        "    \"Age\":[21,34,23,15,34],\n",
        "    \"Salary\": [45000, 34000, 10000,23000,50000],\n",
        "    \"Performance_Score\": [90,75,64,85,59]\n",
        "}\n",
        "df = pd.DataFrame(data)\n",
        "print(df)\n",
        "print(\"----\")\n",
        "# group by on single column\n",
        "grouped_df = df.groupby(\"Age\")[\"Salary\"].sum()\n",
        "print(grouped_df)\n",
        "\n",
        "# group by on multiple columns\n",
        "grouped_df = df.groupby([\"Age\",\"Name\"])[\"Salary\"].sum()\n",
        "print(grouped_df)"
      ],
      "metadata": {
        "colab": {
          "base_uri": "https://localhost:8080/"
        },
        "id": "qx3xSnwOeUrW",
        "outputId": "2bded670-32be-4e58-95a1-8b34dbc5c55c"
      },
      "execution_count": null,
      "outputs": [
        {
          "output_type": "stream",
          "name": "stdout",
          "text": [
            "      Name  Age  Salary  Performance_Score\n",
            "0    Sania   21   45000                 90\n",
            "1     Isha   34   34000                 75\n",
            "2  Muntaha   23   10000                 64\n",
            "3    Hadia   15   23000                 85\n",
            "4      Jia   34   50000                 59\n",
            "----\n",
            "Age\n",
            "15    23000\n",
            "21    45000\n",
            "23    10000\n",
            "34    84000\n",
            "Name: Salary, dtype: int64\n",
            "Age  Name   \n",
            "15   Hadia      23000\n",
            "21   Sania      45000\n",
            "23   Muntaha    10000\n",
            "34   Isha       34000\n",
            "     Jia        50000\n",
            "Name: Salary, dtype: int64\n"
          ]
        }
      ]
    },
    {
      "cell_type": "markdown",
      "source": [
        "**Common aggregation functions:**\n",
        "1- sum() 2- mean() (avg) 3- min() 4- max() 5- count() non-nan ka count 6- std()"
      ],
      "metadata": {
        "id": "c3bodzJ_h-lT"
      }
    },
    {
      "cell_type": "markdown",
      "source": [
        "**Merging & joining:**"
      ],
      "metadata": {
        "id": "6cccZ4iCiWhn"
      }
    },
    {
      "cell_type": "code",
      "source": [
        "# Merging\n",
        "pd.merge(df1,df2, on = \"Column Name\", how = \"Type of Join\") # type: inner/outer/left/right"
      ],
      "metadata": {
        "id": "_I8ercitig9m"
      },
      "execution_count": null,
      "outputs": []
    },
    {
      "cell_type": "code",
      "source": [
        "import pandas as pd\n",
        "\n",
        "df_customers = pd.DataFrame({\n",
        "     'CustomerId': [1, 2, 3, 4],\n",
        "     'Name': ['Alice', 'Bob', 'Charlie', 'David']\n",
        "})\n",
        "\n",
        "df_orders = pd.DataFrame({\n",
        "     'OrderId': [101, 102, 103, 104],\n",
        "     'CustomerId': [1,2,5,4]\n",
        "})\n",
        "# as customer id is common column so we use it as a key\n",
        "df_merged = pd.merge(df_customers,df_orders, on = \"CustomerId\", how = \"inner\") # inner: only matching rows\n",
        "print(df_merged)\n",
        "\n",
        "df_merged = pd.merge(df_customers,df_orders, on = \"CustomerId\", how = \"outer\") # outer: all rows\n",
        "print(df_merged)\n",
        "\n",
        "df_merged = pd.merge(df_customers,df_orders, on = \"CustomerId\", how = \"left\") # left: all rows from left\n",
        "print(df_merged)\n",
        "\n",
        "df_merged = pd.merge(df_customers,df_orders, on = \"CustomerId\", how = \"right\") # right: all rows from right\n",
        "print(df_merged)\n",
        "\n",
        "df_merged = pd.merge(df_customers,df_orders, how = \"cross\") # cross: all rows from right\n",
        "print(df_merged) # this one do cartesian product, which make all possible combinations of rows and columns\n"
      ],
      "metadata": {
        "id": "rj8oUdVajF6c",
        "colab": {
          "base_uri": "https://localhost:8080/"
        },
        "outputId": "5efb9920-7814-49b5-a96c-ddd7f8035640"
      },
      "execution_count": null,
      "outputs": [
        {
          "output_type": "stream",
          "name": "stdout",
          "text": [
            "   CustomerId   Name  OrderId\n",
            "0           1  Alice      101\n",
            "1           2    Bob      102\n",
            "2           4  David      104\n",
            "   CustomerId     Name  OrderId\n",
            "0           1    Alice    101.0\n",
            "1           2      Bob    102.0\n",
            "2           3  Charlie      NaN\n",
            "3           4    David    104.0\n",
            "4           5      NaN    103.0\n",
            "   CustomerId     Name  OrderId\n",
            "0           1    Alice    101.0\n",
            "1           2      Bob    102.0\n",
            "2           3  Charlie      NaN\n",
            "3           4    David    104.0\n",
            "   CustomerId   Name  OrderId\n",
            "0           1  Alice      101\n",
            "1           2    Bob      102\n",
            "2           5    NaN      103\n",
            "3           4  David      104\n",
            "    CustomerId_x     Name  OrderId  CustomerId_y\n",
            "0              1    Alice      101             1\n",
            "1              1    Alice      102             2\n",
            "2              1    Alice      103             5\n",
            "3              1    Alice      104             4\n",
            "4              2      Bob      101             1\n",
            "5              2      Bob      102             2\n",
            "6              2      Bob      103             5\n",
            "7              2      Bob      104             4\n",
            "8              3  Charlie      101             1\n",
            "9              3  Charlie      102             2\n",
            "10             3  Charlie      103             5\n",
            "11             3  Charlie      104             4\n",
            "12             4    David      101             1\n",
            "13             4    David      102             2\n",
            "14             4    David      103             5\n",
            "15             4    David      104             4\n"
          ]
        }
      ]
    },
    {
      "cell_type": "markdown",
      "source": [
        "**Concatenation:**"
      ],
      "metadata": {
        "id": "iVxOww_u1zsj"
      }
    },
    {
      "cell_type": "code",
      "source": [
        "'''\n",
        "vertically (row-wise)\n",
        "horizontally (column-wise)\n",
        "pd.concate([df1,df2],axis = 0, ignore_index = True)\n",
        "'''\n",
        "\n",
        "import pandas as pd\n",
        "\n",
        "df_region1 = pd.DataFrame({\n",
        "     'CustomerId': [1, 2],\n",
        "     'Name': ['Alice', 'Bob']\n",
        "})\n",
        "\n",
        "df_region2 = pd.DataFrame({\n",
        "     'CustomerId': [3, 4],\n",
        "     'Name': ['Charlie', 'David']\n",
        "})\n",
        "\n",
        "df_concate = pd.concat([df_region1,df_region2], axis = 0, ignore_index = True)\n",
        "print(df_concate)\n",
        "\n",
        "df_concate = pd.concat([df_region1,df_region2], axis = 1, ignore_index = True)\n",
        "print(df_concate)"
      ],
      "metadata": {
        "colab": {
          "base_uri": "https://localhost:8080/"
        },
        "id": "jLRVQFGU13Fo",
        "outputId": "01df823c-b8f0-4302-a0ba-806d85a5c4bf"
      },
      "execution_count": null,
      "outputs": [
        {
          "output_type": "stream",
          "name": "stdout",
          "text": [
            "   CustomerId     Name\n",
            "0           1    Alice\n",
            "1           2      Bob\n",
            "2           3  Charlie\n",
            "3           4    David\n",
            "   0      1  2        3\n",
            "0  1  Alice  3  Charlie\n",
            "1  2    Bob  4    David\n"
          ]
        }
      ]
    }
  ]
}