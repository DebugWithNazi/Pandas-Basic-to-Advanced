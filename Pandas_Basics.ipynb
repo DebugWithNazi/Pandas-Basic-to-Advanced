{
  "nbformat": 4,
  "nbformat_minor": 0,
  "metadata": {
    "colab": {
      "provenance": [],
      "authorship_tag": "ABX9TyNixyrE3pyKWR+UdL8h4sFT",
      "include_colab_link": true
    },
    "kernelspec": {
      "name": "python3",
      "display_name": "Python 3"
    },
    "language_info": {
      "name": "python"
    }
  },
  "cells": [
    {
      "cell_type": "markdown",
      "metadata": {
        "id": "view-in-github",
        "colab_type": "text"
      },
      "source": [
        "<a href=\"https://colab.research.google.com/github/DebugWithNazi/Pandas-Basic-to-Advanced/blob/main/Pandas_Basics.ipynb\" target=\"_parent\"><img src=\"https://colab.research.google.com/assets/colab-badge.svg\" alt=\"Open In Colab\"/></a>"
      ]
    },
    {
      "cell_type": "markdown",
      "source": [
        "**Pandas** is a powerful, open-source **data analysis** and **manipulation** library for Python. It is widely used in data science, machine learning, financial analysis, and data engineering.\n",
        "\n",
        "**🔹 What is Pandas?**\n",
        "Pandas provides two main data structures:\n",
        "\n",
        "**Series –** a one-dimensional labeled array (like a column in Excel or a single list with an index).\n",
        "\n",
        "**DataFrame –**  a two-dimensional labeled table of data (like an Excel sheet or SQL table).\n",
        "\n",
        "**🔹 Why Use Pandas?**\n",
        "Easy handling of missing data\n",
        "Powerful and flexible group by functionality\n",
        "Built-in data cleaning, filtering, sorting, and merging\n",
        "Works well with CSV, Excel, JSON, SQL databases, and more\n",
        "Efficient performance, built on top of NumPy"
      ],
      "metadata": {
        "id": "vu0FDrNqnroA"
      }
    },
    {
      "cell_type": "code",
      "execution_count": null,
      "metadata": {
        "colab": {
          "base_uri": "https://localhost:8080/"
        },
        "id": "R1Ls0UMbnpD_",
        "outputId": "e0a96411-6684-4a7f-e1ee-c2117bbf7ea6"
      },
      "outputs": [
        {
          "output_type": "stream",
          "name": "stdout",
          "text": [
            "Requirement already satisfied: pandas in /usr/local/lib/python3.11/dist-packages (2.2.2)\n",
            "Requirement already satisfied: numpy>=1.23.2 in /usr/local/lib/python3.11/dist-packages (from pandas) (2.0.2)\n",
            "Requirement already satisfied: python-dateutil>=2.8.2 in /usr/local/lib/python3.11/dist-packages (from pandas) (2.9.0.post0)\n",
            "Requirement already satisfied: pytz>=2020.1 in /usr/local/lib/python3.11/dist-packages (from pandas) (2025.2)\n",
            "Requirement already satisfied: tzdata>=2022.7 in /usr/local/lib/python3.11/dist-packages (from pandas) (2025.2)\n",
            "Requirement already satisfied: six>=1.5 in /usr/local/lib/python3.11/dist-packages (from python-dateutil>=2.8.2->pandas) (1.17.0)\n"
          ]
        }
      ],
      "source": [
        "!pip install pandas"
      ]
    },
    {
      "cell_type": "markdown",
      "source": [
        "**How to read data:**"
      ],
      "metadata": {
        "id": "Z4lC0_3tvITn"
      }
    },
    {
      "cell_type": "code",
      "source": [
        "import pandas as pd\n",
        "\n",
        "# read data from csv file into a dataframe\n",
        "df = pd.read_csv(\"sales_data_sample.csv\", encoding=\"latin1\") # if error while reading a data, use encoding as utf-8 or latin1\n",
        "# df = pd.read_excel(\"SampleSuperStore.xlsx\")\n",
        "# df = pd.read_json(\"Sample_Data.json\")\n",
        "print(df)\n",
        "\n",
        "\n",
        "#gcsfs library to read data directly from google cloud (if data is on google cloud)\n",
        "\n"
      ],
      "metadata": {
        "id": "Pp_oh97foajT",
        "colab": {
          "base_uri": "https://localhost:8080/"
        },
        "outputId": "39fe5ebf-ee83-4957-eb8d-474ebc345f2f"
      },
      "execution_count": null,
      "outputs": [
        {
          "output_type": "stream",
          "name": "stdout",
          "text": [
            "   OrderID        Date Region    Sales_Rep   Product  Unit_Price  Quantity  \\\n",
            "0     1001  2025-01-05  North   John Smith  Widget A        25.0         4   \n",
            "1     1002  2025-01-07  South     Jane Doe  Widget B        15.5        10   \n",
            "2     1003  2025-01-11   East    Tom Brown  Widget A        25.0         2   \n",
            "3     1004  2025-01-15   West  Alice Green  Widget C        30.0         6   \n",
            "4     1005  2025-01-20  North   John Smith  Widget B        15.5         8   \n",
            "5     1006  2025-01-23  South     Jane Doe  Widget C        30.0         3   \n",
            "6     1007  2025-01-28   East    Tom Brown  Widget B        15.5         5   \n",
            "7     1008  2025-02-02   West  Alice Green  Widget A        25.0         7   \n",
            "8     1009  2025-02-07  North   John Smith  Widget C        30.0         2   \n",
            "9     1010  2025-02-10  South     Jane Doe  Widget A        25.0         1   \n",
            "\n",
            "   Total_Sales  \n",
            "0        100.0  \n",
            "1        155.0  \n",
            "2         50.0  \n",
            "3        180.0  \n",
            "4        124.0  \n",
            "5         90.0  \n",
            "6         77.5  \n",
            "7        175.0  \n",
            "8         60.0  \n",
            "9         25.0  \n"
          ]
        }
      ]
    },
    {
      "cell_type": "markdown",
      "source": [
        "**How to save data:**"
      ],
      "metadata": {
        "id": "gyZsnGimvMGU"
      }
    },
    {
      "cell_type": "code",
      "source": [
        "#how to make our own data\n",
        "\n",
        "data = {\n",
        "    \"Name\": [\"Laiba\",\"Ahsin\",\"Isha\"],\n",
        "    \"Age\": [10,20,30],\n",
        "    \"City\": [\"Lahore\",\"Karachi\",\"Delhi\"]\n",
        "}\n",
        "\n",
        "df = pd.DataFrame(data)\n",
        "print(df)\n",
        "\n",
        "# df.to_csv(\"output.csv\",index = False) # index = False will remove index column\n",
        "# df.to_excel(\"output.xlsx\",index = False)\n",
        "df.to_json(\"output.json\",index = False)"
      ],
      "metadata": {
        "colab": {
          "base_uri": "https://localhost:8080/"
        },
        "id": "G5HPDeFEtq2T",
        "outputId": "96bdaee9-e43f-4695-dbde-53c6ebb2ad25"
      },
      "execution_count": null,
      "outputs": [
        {
          "output_type": "stream",
          "name": "stdout",
          "text": [
            "    Name  Age     City\n",
            "0  Laiba   10   Lahore\n",
            "1  Ahsin   20  Karachi\n",
            "2   Isha   30    Delhi\n"
          ]
        }
      ]
    },
    {
      "cell_type": "markdown",
      "source": [
        "**Explore Dataset (1st step of understanding the data):**\n",
        "\n",
        "\n",
        "> Understand the data\n",
        "\n",
        "\n",
        "> Identify the problems\n",
        "\n",
        "\n",
        "> Plan next steps\n"
      ],
      "metadata": {
        "id": "v_ejdmnFxP7y"
      }
    },
    {
      "cell_type": "code",
      "source": [
        "#step 1: reviewing the data\n",
        "# head(n) first n rows / first 5 rows by default\n",
        "# tail() last n rows / last 5 rows by default\n",
        "import pandas as pd\n",
        "\n",
        "df = pd.read_csv(\"sales_data_sample.csv\", encoding=\"latin1\")\n",
        "print(\"Display starting 5 rows\",df.head(5))\n",
        "print(\"Display last 5 rows\",df.tail(5))"
      ],
      "metadata": {
        "colab": {
          "base_uri": "https://localhost:8080/"
        },
        "id": "W-dz7YdcxsJa",
        "outputId": "33343884-547f-470a-fce4-cdbbd3a00c24"
      },
      "execution_count": null,
      "outputs": [
        {
          "output_type": "stream",
          "name": "stdout",
          "text": [
            "Display starting 5 rows    OrderID        Date Region    Sales_Rep   Product  Unit_Price  Quantity  \\\n",
            "0     1001  2025-01-05  North   John Smith  Widget A        25.0         4   \n",
            "1     1002  2025-01-07  South     Jane Doe  Widget B        15.5        10   \n",
            "2     1003  2025-01-11   East    Tom Brown  Widget A        25.0         2   \n",
            "3     1004  2025-01-15   West  Alice Green  Widget C        30.0         6   \n",
            "4     1005  2025-01-20  North   John Smith  Widget B        15.5         8   \n",
            "\n",
            "   Total_Sales  \n",
            "0        100.0  \n",
            "1        155.0  \n",
            "2         50.0  \n",
            "3        180.0  \n",
            "4        124.0  \n",
            "Display last 5 rows    OrderID        Date Region    Sales_Rep   Product  Unit_Price  Quantity  \\\n",
            "5     1006  2025-01-23  South     Jane Doe  Widget C        30.0         3   \n",
            "6     1007  2025-01-28   East    Tom Brown  Widget B        15.5         5   \n",
            "7     1008  2025-02-02   West  Alice Green  Widget A        25.0         7   \n",
            "8     1009  2025-02-07  North   John Smith  Widget C        30.0         2   \n",
            "9     1010  2025-02-10  South     Jane Doe  Widget A        25.0         1   \n",
            "\n",
            "   Total_Sales  \n",
            "5         90.0  \n",
            "6         77.5  \n",
            "7        175.0  \n",
            "8         60.0  \n",
            "9         25.0  \n"
          ]
        }
      ]
    },
    {
      "cell_type": "code",
      "source": [
        "# step 2: understand the data\n",
        "# 1- columns? rows?\n",
        "# 2- what type of data?\n",
        "# 3- where is missing data?\n",
        "info() # this method concise summary of your data (no of rows and col, col name, int64, float64, object,\n",
        "# non-null count, memory usage)\n"
      ],
      "metadata": {
        "id": "6EqEE7AyzLQJ"
      },
      "execution_count": null,
      "outputs": []
    },
    {
      "cell_type": "code",
      "source": [
        "import pandas as pd\n",
        "\n",
        "df = pd.read_csv(\"sales_data_sample.csv\", encoding=\"latin1\")\n",
        "print(\"Displaying the info of dataset\")\n",
        "print(df.info())"
      ],
      "metadata": {
        "colab": {
          "base_uri": "https://localhost:8080/"
        },
        "id": "E-MTZ0e6z641",
        "outputId": "9b7c65c3-a9d6-4d7e-db36-5ae40acc4785"
      },
      "execution_count": null,
      "outputs": [
        {
          "output_type": "stream",
          "name": "stdout",
          "text": [
            "Displaying the info of dataset\n",
            "<class 'pandas.core.frame.DataFrame'>\n",
            "RangeIndex: 10 entries, 0 to 9\n",
            "Data columns (total 8 columns):\n",
            " #   Column       Non-Null Count  Dtype  \n",
            "---  ------       --------------  -----  \n",
            " 0   OrderID      10 non-null     int64  \n",
            " 1   Date         10 non-null     object \n",
            " 2   Region       10 non-null     object \n",
            " 3   Sales_Rep    10 non-null     object \n",
            " 4   Product      10 non-null     object \n",
            " 5   Unit_Price   10 non-null     float64\n",
            " 6   Quantity     10 non-null     int64  \n",
            " 7   Total_Sales  10 non-null     float64\n",
            "dtypes: float64(2), int64(2), object(4)\n",
            "memory usage: 772.0+ bytes\n",
            "None\n"
          ]
        }
      ]
    },
    {
      "cell_type": "markdown",
      "source": [
        "**Describe method:**"
      ],
      "metadata": {
        "id": "x7udDzqs0uBu"
      }
    },
    {
      "cell_type": "markdown",
      "source": [
        "In Pandas, **std()** stands for standard deviation, a statistical measure of how spread out the values in a dataset are. <br>\n",
        "\n",
        "**What is Standard Deviation?** <br>\n",
        "It tells you how much the values deviate from the mean (average). <br>\n",
        "\n",
        "A low standard deviation means the values are close to the mean. <br>\n",
        "\n",
        "A high standard deviation means the values are more spread out. <br>"
      ],
      "metadata": {
        "id": "NC1vE5kKujW3"
      }
    },
    {
      "cell_type": "code",
      "source": [
        "#step 1: sample data frame\n",
        "import pandas as pd\n",
        "\n",
        "data = {\n",
        "    \"Name\": [\"Laiba\",\"Ahsin\",\"Isha\",\"Maha\",\"Zain\"],\n",
        "    \"Age\": [10,20,30,40,50],\n",
        "    \"Salary\": [40000, 50000, 70000, 10000, 34000],\n",
        "    \"Performance Score\": [87,89,34,67,45]\n",
        "}\n",
        "\n",
        "df = pd.DataFrame(data)\n",
        "print(df)\n",
        "\n",
        "# count\tNumber of non-null (non-NaN) values\n",
        "# mean\tAverage of the values\n",
        "# std\tStandard deviation (how spread out the values are)\n",
        "# min\tMinimum value\n",
        "# 25%\tFirst quartile (25% of values are below this)\n",
        "# 50%\tMedian / second quartile (half of the values are below this)\n",
        "# 75%\tThird quartile (75% of values are below this)\n",
        "# max\tMaximum value\n",
        "\n",
        "# Let’s say we have two datasets:\n",
        "# Data A: [10, 10, 10, 10] → std = 0 (no variation)\n",
        "# Data B: [5, 10, 15, 20] → std = higher (values are spread out from the mean)\n",
        "# print(\"Descriptive Statistics: \")\n",
        "df.describe()\n"
      ],
      "metadata": {
        "colab": {
          "base_uri": "https://localhost:8080/",
          "height": 421
        },
        "id": "3WmGbPEG0ykE",
        "outputId": "e86b2d45-31b6-473c-c683-e81ee2e16b27"
      },
      "execution_count": null,
      "outputs": [
        {
          "output_type": "stream",
          "name": "stdout",
          "text": [
            "    Name  Age  Salary  Performance Score\n",
            "0  Laiba   10   40000                 87\n",
            "1  Ahsin   20   50000                 89\n",
            "2   Isha   30   70000                 34\n",
            "3   Maha   40   10000                 67\n",
            "4   Zain   50   34000                 45\n",
            "Descriptive Statistics: \n"
          ]
        },
        {
          "output_type": "execute_result",
          "data": {
            "text/plain": [
              "             Age        Salary  Performance Score\n",
              "count   5.000000      5.000000           5.000000\n",
              "mean   30.000000  40800.000000          64.400000\n",
              "std    15.811388  21981.810662          24.613005\n",
              "min    10.000000  10000.000000          34.000000\n",
              "25%    20.000000  34000.000000          45.000000\n",
              "50%    30.000000  40000.000000          67.000000\n",
              "75%    40.000000  50000.000000          87.000000\n",
              "max    50.000000  70000.000000          89.000000"
            ],
            "text/html": [
              "\n",
              "  <div id=\"df-857e850d-1e91-434a-8689-7bc262e213a3\" class=\"colab-df-container\">\n",
              "    <div>\n",
              "<style scoped>\n",
              "    .dataframe tbody tr th:only-of-type {\n",
              "        vertical-align: middle;\n",
              "    }\n",
              "\n",
              "    .dataframe tbody tr th {\n",
              "        vertical-align: top;\n",
              "    }\n",
              "\n",
              "    .dataframe thead th {\n",
              "        text-align: right;\n",
              "    }\n",
              "</style>\n",
              "<table border=\"1\" class=\"dataframe\">\n",
              "  <thead>\n",
              "    <tr style=\"text-align: right;\">\n",
              "      <th></th>\n",
              "      <th>Age</th>\n",
              "      <th>Salary</th>\n",
              "      <th>Performance Score</th>\n",
              "    </tr>\n",
              "  </thead>\n",
              "  <tbody>\n",
              "    <tr>\n",
              "      <th>count</th>\n",
              "      <td>5.000000</td>\n",
              "      <td>5.000000</td>\n",
              "      <td>5.000000</td>\n",
              "    </tr>\n",
              "    <tr>\n",
              "      <th>mean</th>\n",
              "      <td>30.000000</td>\n",
              "      <td>40800.000000</td>\n",
              "      <td>64.400000</td>\n",
              "    </tr>\n",
              "    <tr>\n",
              "      <th>std</th>\n",
              "      <td>15.811388</td>\n",
              "      <td>21981.810662</td>\n",
              "      <td>24.613005</td>\n",
              "    </tr>\n",
              "    <tr>\n",
              "      <th>min</th>\n",
              "      <td>10.000000</td>\n",
              "      <td>10000.000000</td>\n",
              "      <td>34.000000</td>\n",
              "    </tr>\n",
              "    <tr>\n",
              "      <th>25%</th>\n",
              "      <td>20.000000</td>\n",
              "      <td>34000.000000</td>\n",
              "      <td>45.000000</td>\n",
              "    </tr>\n",
              "    <tr>\n",
              "      <th>50%</th>\n",
              "      <td>30.000000</td>\n",
              "      <td>40000.000000</td>\n",
              "      <td>67.000000</td>\n",
              "    </tr>\n",
              "    <tr>\n",
              "      <th>75%</th>\n",
              "      <td>40.000000</td>\n",
              "      <td>50000.000000</td>\n",
              "      <td>87.000000</td>\n",
              "    </tr>\n",
              "    <tr>\n",
              "      <th>max</th>\n",
              "      <td>50.000000</td>\n",
              "      <td>70000.000000</td>\n",
              "      <td>89.000000</td>\n",
              "    </tr>\n",
              "  </tbody>\n",
              "</table>\n",
              "</div>\n",
              "    <div class=\"colab-df-buttons\">\n",
              "\n",
              "  <div class=\"colab-df-container\">\n",
              "    <button class=\"colab-df-convert\" onclick=\"convertToInteractive('df-857e850d-1e91-434a-8689-7bc262e213a3')\"\n",
              "            title=\"Convert this dataframe to an interactive table.\"\n",
              "            style=\"display:none;\">\n",
              "\n",
              "  <svg xmlns=\"http://www.w3.org/2000/svg\" height=\"24px\" viewBox=\"0 -960 960 960\">\n",
              "    <path d=\"M120-120v-720h720v720H120Zm60-500h600v-160H180v160Zm220 220h160v-160H400v160Zm0 220h160v-160H400v160ZM180-400h160v-160H180v160Zm440 0h160v-160H620v160ZM180-180h160v-160H180v160Zm440 0h160v-160H620v160Z\"/>\n",
              "  </svg>\n",
              "    </button>\n",
              "\n",
              "  <style>\n",
              "    .colab-df-container {\n",
              "      display:flex;\n",
              "      gap: 12px;\n",
              "    }\n",
              "\n",
              "    .colab-df-convert {\n",
              "      background-color: #E8F0FE;\n",
              "      border: none;\n",
              "      border-radius: 50%;\n",
              "      cursor: pointer;\n",
              "      display: none;\n",
              "      fill: #1967D2;\n",
              "      height: 32px;\n",
              "      padding: 0 0 0 0;\n",
              "      width: 32px;\n",
              "    }\n",
              "\n",
              "    .colab-df-convert:hover {\n",
              "      background-color: #E2EBFA;\n",
              "      box-shadow: 0px 1px 2px rgba(60, 64, 67, 0.3), 0px 1px 3px 1px rgba(60, 64, 67, 0.15);\n",
              "      fill: #174EA6;\n",
              "    }\n",
              "\n",
              "    .colab-df-buttons div {\n",
              "      margin-bottom: 4px;\n",
              "    }\n",
              "\n",
              "    [theme=dark] .colab-df-convert {\n",
              "      background-color: #3B4455;\n",
              "      fill: #D2E3FC;\n",
              "    }\n",
              "\n",
              "    [theme=dark] .colab-df-convert:hover {\n",
              "      background-color: #434B5C;\n",
              "      box-shadow: 0px 1px 3px 1px rgba(0, 0, 0, 0.15);\n",
              "      filter: drop-shadow(0px 1px 2px rgba(0, 0, 0, 0.3));\n",
              "      fill: #FFFFFF;\n",
              "    }\n",
              "  </style>\n",
              "\n",
              "    <script>\n",
              "      const buttonEl =\n",
              "        document.querySelector('#df-857e850d-1e91-434a-8689-7bc262e213a3 button.colab-df-convert');\n",
              "      buttonEl.style.display =\n",
              "        google.colab.kernel.accessAllowed ? 'block' : 'none';\n",
              "\n",
              "      async function convertToInteractive(key) {\n",
              "        const element = document.querySelector('#df-857e850d-1e91-434a-8689-7bc262e213a3');\n",
              "        const dataTable =\n",
              "          await google.colab.kernel.invokeFunction('convertToInteractive',\n",
              "                                                    [key], {});\n",
              "        if (!dataTable) return;\n",
              "\n",
              "        const docLinkHtml = 'Like what you see? Visit the ' +\n",
              "          '<a target=\"_blank\" href=https://colab.research.google.com/notebooks/data_table.ipynb>data table notebook</a>'\n",
              "          + ' to learn more about interactive tables.';\n",
              "        element.innerHTML = '';\n",
              "        dataTable['output_type'] = 'display_data';\n",
              "        await google.colab.output.renderOutput(dataTable, element);\n",
              "        const docLink = document.createElement('div');\n",
              "        docLink.innerHTML = docLinkHtml;\n",
              "        element.appendChild(docLink);\n",
              "      }\n",
              "    </script>\n",
              "  </div>\n",
              "\n",
              "\n",
              "    <div id=\"df-692d4052-2415-4189-84f6-cff2764711e7\">\n",
              "      <button class=\"colab-df-quickchart\" onclick=\"quickchart('df-692d4052-2415-4189-84f6-cff2764711e7')\"\n",
              "                title=\"Suggest charts\"\n",
              "                style=\"display:none;\">\n",
              "\n",
              "<svg xmlns=\"http://www.w3.org/2000/svg\" height=\"24px\"viewBox=\"0 0 24 24\"\n",
              "     width=\"24px\">\n",
              "    <g>\n",
              "        <path d=\"M19 3H5c-1.1 0-2 .9-2 2v14c0 1.1.9 2 2 2h14c1.1 0 2-.9 2-2V5c0-1.1-.9-2-2-2zM9 17H7v-7h2v7zm4 0h-2V7h2v10zm4 0h-2v-4h2v4z\"/>\n",
              "    </g>\n",
              "</svg>\n",
              "      </button>\n",
              "\n",
              "<style>\n",
              "  .colab-df-quickchart {\n",
              "      --bg-color: #E8F0FE;\n",
              "      --fill-color: #1967D2;\n",
              "      --hover-bg-color: #E2EBFA;\n",
              "      --hover-fill-color: #174EA6;\n",
              "      --disabled-fill-color: #AAA;\n",
              "      --disabled-bg-color: #DDD;\n",
              "  }\n",
              "\n",
              "  [theme=dark] .colab-df-quickchart {\n",
              "      --bg-color: #3B4455;\n",
              "      --fill-color: #D2E3FC;\n",
              "      --hover-bg-color: #434B5C;\n",
              "      --hover-fill-color: #FFFFFF;\n",
              "      --disabled-bg-color: #3B4455;\n",
              "      --disabled-fill-color: #666;\n",
              "  }\n",
              "\n",
              "  .colab-df-quickchart {\n",
              "    background-color: var(--bg-color);\n",
              "    border: none;\n",
              "    border-radius: 50%;\n",
              "    cursor: pointer;\n",
              "    display: none;\n",
              "    fill: var(--fill-color);\n",
              "    height: 32px;\n",
              "    padding: 0;\n",
              "    width: 32px;\n",
              "  }\n",
              "\n",
              "  .colab-df-quickchart:hover {\n",
              "    background-color: var(--hover-bg-color);\n",
              "    box-shadow: 0 1px 2px rgba(60, 64, 67, 0.3), 0 1px 3px 1px rgba(60, 64, 67, 0.15);\n",
              "    fill: var(--button-hover-fill-color);\n",
              "  }\n",
              "\n",
              "  .colab-df-quickchart-complete:disabled,\n",
              "  .colab-df-quickchart-complete:disabled:hover {\n",
              "    background-color: var(--disabled-bg-color);\n",
              "    fill: var(--disabled-fill-color);\n",
              "    box-shadow: none;\n",
              "  }\n",
              "\n",
              "  .colab-df-spinner {\n",
              "    border: 2px solid var(--fill-color);\n",
              "    border-color: transparent;\n",
              "    border-bottom-color: var(--fill-color);\n",
              "    animation:\n",
              "      spin 1s steps(1) infinite;\n",
              "  }\n",
              "\n",
              "  @keyframes spin {\n",
              "    0% {\n",
              "      border-color: transparent;\n",
              "      border-bottom-color: var(--fill-color);\n",
              "      border-left-color: var(--fill-color);\n",
              "    }\n",
              "    20% {\n",
              "      border-color: transparent;\n",
              "      border-left-color: var(--fill-color);\n",
              "      border-top-color: var(--fill-color);\n",
              "    }\n",
              "    30% {\n",
              "      border-color: transparent;\n",
              "      border-left-color: var(--fill-color);\n",
              "      border-top-color: var(--fill-color);\n",
              "      border-right-color: var(--fill-color);\n",
              "    }\n",
              "    40% {\n",
              "      border-color: transparent;\n",
              "      border-right-color: var(--fill-color);\n",
              "      border-top-color: var(--fill-color);\n",
              "    }\n",
              "    60% {\n",
              "      border-color: transparent;\n",
              "      border-right-color: var(--fill-color);\n",
              "    }\n",
              "    80% {\n",
              "      border-color: transparent;\n",
              "      border-right-color: var(--fill-color);\n",
              "      border-bottom-color: var(--fill-color);\n",
              "    }\n",
              "    90% {\n",
              "      border-color: transparent;\n",
              "      border-bottom-color: var(--fill-color);\n",
              "    }\n",
              "  }\n",
              "</style>\n",
              "\n",
              "      <script>\n",
              "        async function quickchart(key) {\n",
              "          const quickchartButtonEl =\n",
              "            document.querySelector('#' + key + ' button');\n",
              "          quickchartButtonEl.disabled = true;  // To prevent multiple clicks.\n",
              "          quickchartButtonEl.classList.add('colab-df-spinner');\n",
              "          try {\n",
              "            const charts = await google.colab.kernel.invokeFunction(\n",
              "                'suggestCharts', [key], {});\n",
              "          } catch (error) {\n",
              "            console.error('Error during call to suggestCharts:', error);\n",
              "          }\n",
              "          quickchartButtonEl.classList.remove('colab-df-spinner');\n",
              "          quickchartButtonEl.classList.add('colab-df-quickchart-complete');\n",
              "        }\n",
              "        (() => {\n",
              "          let quickchartButtonEl =\n",
              "            document.querySelector('#df-692d4052-2415-4189-84f6-cff2764711e7 button');\n",
              "          quickchartButtonEl.style.display =\n",
              "            google.colab.kernel.accessAllowed ? 'block' : 'none';\n",
              "        })();\n",
              "      </script>\n",
              "    </div>\n",
              "\n",
              "    </div>\n",
              "  </div>\n"
            ],
            "application/vnd.google.colaboratory.intrinsic+json": {
              "type": "dataframe",
              "summary": "{\n  \"name\": \"df\",\n  \"rows\": 8,\n  \"fields\": [\n    {\n      \"column\": \"Age\",\n      \"properties\": {\n        \"dtype\": \"number\",\n        \"std\": 15.27999762100796,\n        \"min\": 5.0,\n        \"max\": 50.0,\n        \"num_unique_values\": 7,\n        \"samples\": [\n          5.0,\n          30.0,\n          40.0\n        ],\n        \"semantic_type\": \"\",\n        \"description\": \"\"\n      }\n    },\n    {\n      \"column\": \"Salary\",\n      \"properties\": {\n        \"dtype\": \"number\",\n        \"std\": 22382.83695816141,\n        \"min\": 5.0,\n        \"max\": 70000.0,\n        \"num_unique_values\": 8,\n        \"samples\": [\n          40800.0,\n          40000.0,\n          5.0\n        ],\n        \"semantic_type\": \"\",\n        \"description\": \"\"\n      }\n    },\n    {\n      \"column\": \"Performance Score\",\n      \"properties\": {\n        \"dtype\": \"number\",\n        \"std\": 30.01144422388855,\n        \"min\": 5.0,\n        \"max\": 89.0,\n        \"num_unique_values\": 8,\n        \"samples\": [\n          64.4,\n          67.0,\n          5.0\n        ],\n        \"semantic_type\": \"\",\n        \"description\": \"\"\n      }\n    }\n  ]\n}"
            }
          },
          "metadata": {},
          "execution_count": 24
        }
      ]
    },
    {
      "cell_type": "markdown",
      "source": [
        "**How big your dataset & what are the name of the columns:**\n",
        "Shape and columns"
      ],
      "metadata": {
        "id": "CCNM2s0oXRSk"
      }
    },
    {
      "cell_type": "code",
      "source": [
        "import pandas as pd\n",
        "\n",
        "data = {\n",
        "    \"Name\": [\"Laiba\",\"Ahsin\",\"Isha\",\"Maha\",\"Zain\"],\n",
        "    \"Age\": [10,20,30,40,50],\n",
        "    \"Salary\": [40000, 50000, 70000, 10000, 34000],\n",
        "    \"Performance Score\": [87,89,34,67,45]\n",
        "}\n",
        "\n",
        "df = pd.DataFrame(data)\n",
        "print(df)\n",
        "print(\"Shape: \", df.shape)\n",
        "print(\"Columns: \", df.columns)"
      ],
      "metadata": {
        "colab": {
          "base_uri": "https://localhost:8080/"
        },
        "id": "mDFLYfRAXTzu",
        "outputId": "e1a4df87-8532-4101-ba41-410b592c27b8"
      },
      "execution_count": null,
      "outputs": [
        {
          "output_type": "stream",
          "name": "stdout",
          "text": [
            "    Name  Age  Salary  Performance Score\n",
            "0  Laiba   10   40000                 87\n",
            "1  Ahsin   20   50000                 89\n",
            "2   Isha   30   70000                 34\n",
            "3   Maha   40   10000                 67\n",
            "4   Zain   50   34000                 45\n",
            "Shape:  (5, 4)\n",
            "Columns:  Index(['Name', 'Age', 'Salary', 'Performance Score'], dtype='object')\n"
          ]
        }
      ]
    },
    {
      "cell_type": "markdown",
      "source": [
        "1- Select specific column (by using sqaure brackets) <br>\n",
        "2- filter rows (by using boolean conditions) <br>\n",
        "3- combine multiple conditions\n",
        "\n",
        "Selecting Columns: <br>\n",
        "1- a series <br>\n",
        "2- dataframe mutiple columns of data\n",
        "\n",
        "Selecting Rows: <br>\n",
        "filtered_rows = df[df[\"Salary\"] > 50000] <br>\n",
        "\n",
        "filtered_rows = df[(df[\"Salary\"] > 50000) and (df[\"Salary\"] > 80000)]\n",
        "\n"
      ],
      "metadata": {
        "id": "ZYk2CRUZYy35"
      }
    },
    {
      "cell_type": "code",
      "source": [
        "# column = df[\"Column Name\"]\n",
        "# subset = df[\"Column1\", \"Column2\"]\n",
        "import pandas as pd\n",
        "\n",
        "data = {\n",
        "    \"Name\": [\"Laiba\",\"Ahsin\",\"Isha\",\"Maha\",\"Zain\"],\n",
        "    \"Age\": [10,20,30,40,50],\n",
        "    \"Salary\": [40000, 50000, 70000, 10000, 34000],\n",
        "    \"Performance Score\": [87,89,34,67,45]\n",
        "}\n",
        "\n",
        "df = pd.DataFrame(data)\n",
        "print(df)\n",
        "print(\"Single Column will return series\")\n",
        "name = df[\"Name\"]\n",
        "print(name)\n",
        "print(\"Multiple Column will return dataframe\")\n",
        "subset = df[[\"Name\",\"Salary\"]]\n",
        "print(subset)\n",
        "\n",
        "#How to filter rows\n",
        "# by one condition\n",
        "high_salary = df[df['Salary'] > 50000]\n",
        "print(\"High Salary: \\n\", high_salary)\n",
        "\n",
        "# by two conditions (and)\n",
        "filtered_rows = df[(df[\"Salary\"] >= 50000) & (df[\"Age\"] >= 30)]\n",
        "print(\"Filtered Rows: \\n\", filtered_rows)\n",
        "\n",
        "# by two conditions (or)\n",
        "filtered_rows1 = df[(df[\"Salary\"] > 50000) | (df[\"Age\"] > 30)]\n",
        "print(\"Filtered Rows: \\n\", filtered_rows1)"
      ],
      "metadata": {
        "colab": {
          "base_uri": "https://localhost:8080/"
        },
        "id": "0aimXTcuY-Fh",
        "outputId": "318a8dc9-e255-4596-a002-e409b784b2ff"
      },
      "execution_count": null,
      "outputs": [
        {
          "output_type": "stream",
          "name": "stdout",
          "text": [
            "    Name  Age  Salary  Performance Score\n",
            "0  Laiba   10   40000                 87\n",
            "1  Ahsin   20   50000                 89\n",
            "2   Isha   30   70000                 34\n",
            "3   Maha   40   10000                 67\n",
            "4   Zain   50   34000                 45\n",
            "Single Column will return series\n",
            "0    Laiba\n",
            "1    Ahsin\n",
            "2     Isha\n",
            "3     Maha\n",
            "4     Zain\n",
            "Name: Name, dtype: object\n",
            "Multiple Column will return dataframe\n",
            "    Name  Salary\n",
            "0  Laiba   40000\n",
            "1  Ahsin   50000\n",
            "2   Isha   70000\n",
            "3   Maha   10000\n",
            "4   Zain   34000\n",
            "High Salary: \n",
            "    Name  Age  Salary  Performance Score\n",
            "2  Isha   30   70000                 34\n",
            "Filtered Rows: \n",
            "    Name  Age  Salary  Performance Score\n",
            "2  Isha   30   70000                 34\n",
            "Filtered Rows: \n",
            "    Name  Age  Salary  Performance Score\n",
            "2  Isha   30   70000                 34\n",
            "3  Maha   40   10000                 67\n",
            "4  Zain   50   34000                 45\n"
          ]
        }
      ]
    }
  ]
}